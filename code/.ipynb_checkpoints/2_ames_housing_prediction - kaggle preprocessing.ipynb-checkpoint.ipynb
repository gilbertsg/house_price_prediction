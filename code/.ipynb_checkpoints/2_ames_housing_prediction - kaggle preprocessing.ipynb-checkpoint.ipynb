{
 "cells": [
  {
   "cell_type": "markdown",
   "id": "a3309507-5d68-4a77-b3f2-64aace17dec2",
   "metadata": {},
   "source": [
    "# Project 2 - Ames Housing Data and Kaggle Challenge\n",
    "---"
   ]
  },
  {
   "cell_type": "markdown",
   "id": "2f7e3236-7447-48ba-9bdd-3cc6daf8f5d7",
   "metadata": {
    "tags": []
   },
   "source": [
    "## Library and Data Imports"
   ]
  },
  {
   "cell_type": "code",
   "execution_count": 7,
   "id": "32c4b0ce-d006-454a-85e9-5109ca447a04",
   "metadata": {},
   "outputs": [],
   "source": [
    "## library imports\n",
    "\n",
    "# data processing imports\n",
    "import pandas as pd\n",
    "import numpy as np\n",
    "\n",
    "# plotting imports\n",
    "import matplotlib.pyplot as plt\n",
    "import seaborn as sns\n",
    "\n",
    "# imports for normality check\n",
    "from statsmodels.graphics.gofplots import qqplot\n",
    "from scipy.stats import normaltest\n",
    "\n",
    "# modelling imports\n",
    "from sklearn.model_selection import train_test_split\n",
    "from sklearn.preprocessing import StandardScaler, PolynomialFeatures\n",
    "\n",
    "from sklearn import linear_model\n",
    "from sklearn.linear_model import ElasticNet\n",
    "from sklearn.model_selection import GridSearchCV, RepeatedKFold\n",
    "from sklearn.feature_selection import RFE, SequentialFeatureSelector\n",
    "\n",
    "# metric imports\n",
    "from sklearn import metrics \n",
    "\n",
    "# misc imports\n",
    "import warnings\n",
    "from sklearn.exceptions import ConvergenceWarning"
   ]
  },
  {
   "cell_type": "code",
   "execution_count": 8,
   "id": "e306b9b9-ec0b-4f7f-a724-803f4c25fc14",
   "metadata": {},
   "outputs": [],
   "source": [
    "## Settings\n",
    "sns.set_style('darkgrid') # setting seaborn style\n",
    "\n",
    "# enable inline plotting\n",
    "%matplotlib inline \n",
    "\n",
    "pd.set_option('display.max_columns', None) # disable column overflow in pandas display, this is toenable us to display all the columns"
   ]
  },
  {
   "cell_type": "code",
   "execution_count": 9,
   "id": "a40c9318-485b-4e29-a839-8cff4e3ca7e6",
   "metadata": {},
   "outputs": [
    {
     "data": {
      "text/html": [
       "<div>\n",
       "<style scoped>\n",
       "    .dataframe tbody tr th:only-of-type {\n",
       "        vertical-align: middle;\n",
       "    }\n",
       "\n",
       "    .dataframe tbody tr th {\n",
       "        vertical-align: top;\n",
       "    }\n",
       "\n",
       "    .dataframe thead th {\n",
       "        text-align: right;\n",
       "    }\n",
       "</style>\n",
       "<table border=\"1\" class=\"dataframe\">\n",
       "  <thead>\n",
       "    <tr style=\"text-align: right;\">\n",
       "      <th></th>\n",
       "      <th>Id</th>\n",
       "      <th>PID</th>\n",
       "      <th>MSSubClass</th>\n",
       "      <th>MSZoning</th>\n",
       "      <th>LotFrontage</th>\n",
       "      <th>LotArea</th>\n",
       "      <th>Street</th>\n",
       "      <th>Alley</th>\n",
       "      <th>LotShape</th>\n",
       "      <th>LandContour</th>\n",
       "      <th>Utilities</th>\n",
       "      <th>LotConfig</th>\n",
       "      <th>LandSlope</th>\n",
       "      <th>Neighborhood</th>\n",
       "      <th>Condition1</th>\n",
       "      <th>Condition2</th>\n",
       "      <th>BldgType</th>\n",
       "      <th>HouseStyle</th>\n",
       "      <th>OverallQual</th>\n",
       "      <th>OverallCond</th>\n",
       "      <th>YearBuilt</th>\n",
       "      <th>YearRemod/Add</th>\n",
       "      <th>RoofStyle</th>\n",
       "      <th>RoofMatl</th>\n",
       "      <th>Exterior1st</th>\n",
       "      <th>Exterior2nd</th>\n",
       "      <th>MasVnrType</th>\n",
       "      <th>MasVnrArea</th>\n",
       "      <th>ExterQual</th>\n",
       "      <th>ExterCond</th>\n",
       "      <th>Foundation</th>\n",
       "      <th>BsmtQual</th>\n",
       "      <th>BsmtCond</th>\n",
       "      <th>BsmtExposure</th>\n",
       "      <th>BsmtFinType1</th>\n",
       "      <th>BsmtFinSF1</th>\n",
       "      <th>BsmtFinType2</th>\n",
       "      <th>BsmtFinSF2</th>\n",
       "      <th>BsmtUnfSF</th>\n",
       "      <th>TotalBsmtSF</th>\n",
       "      <th>Heating</th>\n",
       "      <th>HeatingQC</th>\n",
       "      <th>CentralAir</th>\n",
       "      <th>Electrical</th>\n",
       "      <th>1stFlrSF</th>\n",
       "      <th>2ndFlrSF</th>\n",
       "      <th>LowQualFinSF</th>\n",
       "      <th>GrLivArea</th>\n",
       "      <th>BsmtFullBath</th>\n",
       "      <th>BsmtHalfBath</th>\n",
       "      <th>FullBath</th>\n",
       "      <th>HalfBath</th>\n",
       "      <th>BedroomAbvGr</th>\n",
       "      <th>KitchenAbvGr</th>\n",
       "      <th>KitchenQual</th>\n",
       "      <th>TotRmsAbvGrd</th>\n",
       "      <th>Functional</th>\n",
       "      <th>Fireplaces</th>\n",
       "      <th>FireplaceQu</th>\n",
       "      <th>GarageType</th>\n",
       "      <th>GarageYrBlt</th>\n",
       "      <th>GarageFinish</th>\n",
       "      <th>GarageCars</th>\n",
       "      <th>GarageArea</th>\n",
       "      <th>GarageQual</th>\n",
       "      <th>GarageCond</th>\n",
       "      <th>PavedDrive</th>\n",
       "      <th>WoodDeckSF</th>\n",
       "      <th>OpenPorchSF</th>\n",
       "      <th>EnclosedPorch</th>\n",
       "      <th>3SsnPorch</th>\n",
       "      <th>ScreenPorch</th>\n",
       "      <th>PoolArea</th>\n",
       "      <th>PoolQC</th>\n",
       "      <th>Fence</th>\n",
       "      <th>MiscFeature</th>\n",
       "      <th>MiscVal</th>\n",
       "      <th>MoSold</th>\n",
       "      <th>YrSold</th>\n",
       "      <th>SaleType</th>\n",
       "    </tr>\n",
       "  </thead>\n",
       "  <tbody>\n",
       "    <tr>\n",
       "      <th>0</th>\n",
       "      <td>2658</td>\n",
       "      <td>902301120</td>\n",
       "      <td>190</td>\n",
       "      <td>RM</td>\n",
       "      <td>69.0</td>\n",
       "      <td>9142</td>\n",
       "      <td>Pave</td>\n",
       "      <td>Grvl</td>\n",
       "      <td>Reg</td>\n",
       "      <td>Lvl</td>\n",
       "      <td>AllPub</td>\n",
       "      <td>Inside</td>\n",
       "      <td>Gtl</td>\n",
       "      <td>OldTown</td>\n",
       "      <td>Norm</td>\n",
       "      <td>Norm</td>\n",
       "      <td>2fmCon</td>\n",
       "      <td>2Story</td>\n",
       "      <td>6</td>\n",
       "      <td>8</td>\n",
       "      <td>1910</td>\n",
       "      <td>1950</td>\n",
       "      <td>Gable</td>\n",
       "      <td>CompShg</td>\n",
       "      <td>AsbShng</td>\n",
       "      <td>AsbShng</td>\n",
       "      <td>None</td>\n",
       "      <td>0.0</td>\n",
       "      <td>TA</td>\n",
       "      <td>Fa</td>\n",
       "      <td>Stone</td>\n",
       "      <td>Fa</td>\n",
       "      <td>TA</td>\n",
       "      <td>No</td>\n",
       "      <td>Unf</td>\n",
       "      <td>0</td>\n",
       "      <td>Unf</td>\n",
       "      <td>0</td>\n",
       "      <td>1020</td>\n",
       "      <td>1020</td>\n",
       "      <td>GasA</td>\n",
       "      <td>Gd</td>\n",
       "      <td>N</td>\n",
       "      <td>FuseP</td>\n",
       "      <td>908</td>\n",
       "      <td>1020</td>\n",
       "      <td>0</td>\n",
       "      <td>1928</td>\n",
       "      <td>0</td>\n",
       "      <td>0</td>\n",
       "      <td>2</td>\n",
       "      <td>0</td>\n",
       "      <td>4</td>\n",
       "      <td>2</td>\n",
       "      <td>Fa</td>\n",
       "      <td>9</td>\n",
       "      <td>Typ</td>\n",
       "      <td>0</td>\n",
       "      <td>NaN</td>\n",
       "      <td>Detchd</td>\n",
       "      <td>1910.0</td>\n",
       "      <td>Unf</td>\n",
       "      <td>1</td>\n",
       "      <td>440</td>\n",
       "      <td>Po</td>\n",
       "      <td>Po</td>\n",
       "      <td>Y</td>\n",
       "      <td>0</td>\n",
       "      <td>60</td>\n",
       "      <td>112</td>\n",
       "      <td>0</td>\n",
       "      <td>0</td>\n",
       "      <td>0</td>\n",
       "      <td>NaN</td>\n",
       "      <td>NaN</td>\n",
       "      <td>NaN</td>\n",
       "      <td>0</td>\n",
       "      <td>4</td>\n",
       "      <td>2006</td>\n",
       "      <td>WD</td>\n",
       "    </tr>\n",
       "    <tr>\n",
       "      <th>1</th>\n",
       "      <td>2718</td>\n",
       "      <td>905108090</td>\n",
       "      <td>90</td>\n",
       "      <td>RL</td>\n",
       "      <td>NaN</td>\n",
       "      <td>9662</td>\n",
       "      <td>Pave</td>\n",
       "      <td>NaN</td>\n",
       "      <td>IR1</td>\n",
       "      <td>Lvl</td>\n",
       "      <td>AllPub</td>\n",
       "      <td>Inside</td>\n",
       "      <td>Gtl</td>\n",
       "      <td>Sawyer</td>\n",
       "      <td>Norm</td>\n",
       "      <td>Norm</td>\n",
       "      <td>Duplex</td>\n",
       "      <td>1Story</td>\n",
       "      <td>5</td>\n",
       "      <td>4</td>\n",
       "      <td>1977</td>\n",
       "      <td>1977</td>\n",
       "      <td>Gable</td>\n",
       "      <td>CompShg</td>\n",
       "      <td>Plywood</td>\n",
       "      <td>Plywood</td>\n",
       "      <td>None</td>\n",
       "      <td>0.0</td>\n",
       "      <td>TA</td>\n",
       "      <td>TA</td>\n",
       "      <td>CBlock</td>\n",
       "      <td>Gd</td>\n",
       "      <td>TA</td>\n",
       "      <td>No</td>\n",
       "      <td>Unf</td>\n",
       "      <td>0</td>\n",
       "      <td>Unf</td>\n",
       "      <td>0</td>\n",
       "      <td>1967</td>\n",
       "      <td>1967</td>\n",
       "      <td>GasA</td>\n",
       "      <td>TA</td>\n",
       "      <td>Y</td>\n",
       "      <td>SBrkr</td>\n",
       "      <td>1967</td>\n",
       "      <td>0</td>\n",
       "      <td>0</td>\n",
       "      <td>1967</td>\n",
       "      <td>0</td>\n",
       "      <td>0</td>\n",
       "      <td>2</td>\n",
       "      <td>0</td>\n",
       "      <td>6</td>\n",
       "      <td>2</td>\n",
       "      <td>TA</td>\n",
       "      <td>10</td>\n",
       "      <td>Typ</td>\n",
       "      <td>0</td>\n",
       "      <td>NaN</td>\n",
       "      <td>Attchd</td>\n",
       "      <td>1977.0</td>\n",
       "      <td>Fin</td>\n",
       "      <td>2</td>\n",
       "      <td>580</td>\n",
       "      <td>TA</td>\n",
       "      <td>TA</td>\n",
       "      <td>Y</td>\n",
       "      <td>170</td>\n",
       "      <td>0</td>\n",
       "      <td>0</td>\n",
       "      <td>0</td>\n",
       "      <td>0</td>\n",
       "      <td>0</td>\n",
       "      <td>NaN</td>\n",
       "      <td>NaN</td>\n",
       "      <td>NaN</td>\n",
       "      <td>0</td>\n",
       "      <td>8</td>\n",
       "      <td>2006</td>\n",
       "      <td>WD</td>\n",
       "    </tr>\n",
       "    <tr>\n",
       "      <th>2</th>\n",
       "      <td>2414</td>\n",
       "      <td>528218130</td>\n",
       "      <td>60</td>\n",
       "      <td>RL</td>\n",
       "      <td>58.0</td>\n",
       "      <td>17104</td>\n",
       "      <td>Pave</td>\n",
       "      <td>NaN</td>\n",
       "      <td>IR1</td>\n",
       "      <td>Lvl</td>\n",
       "      <td>AllPub</td>\n",
       "      <td>Inside</td>\n",
       "      <td>Gtl</td>\n",
       "      <td>Gilbert</td>\n",
       "      <td>Norm</td>\n",
       "      <td>Norm</td>\n",
       "      <td>1Fam</td>\n",
       "      <td>2Story</td>\n",
       "      <td>7</td>\n",
       "      <td>5</td>\n",
       "      <td>2006</td>\n",
       "      <td>2006</td>\n",
       "      <td>Gable</td>\n",
       "      <td>CompShg</td>\n",
       "      <td>VinylSd</td>\n",
       "      <td>VinylSd</td>\n",
       "      <td>None</td>\n",
       "      <td>0.0</td>\n",
       "      <td>Gd</td>\n",
       "      <td>TA</td>\n",
       "      <td>PConc</td>\n",
       "      <td>Gd</td>\n",
       "      <td>Gd</td>\n",
       "      <td>Av</td>\n",
       "      <td>GLQ</td>\n",
       "      <td>554</td>\n",
       "      <td>Unf</td>\n",
       "      <td>0</td>\n",
       "      <td>100</td>\n",
       "      <td>654</td>\n",
       "      <td>GasA</td>\n",
       "      <td>Ex</td>\n",
       "      <td>Y</td>\n",
       "      <td>SBrkr</td>\n",
       "      <td>664</td>\n",
       "      <td>832</td>\n",
       "      <td>0</td>\n",
       "      <td>1496</td>\n",
       "      <td>1</td>\n",
       "      <td>0</td>\n",
       "      <td>2</td>\n",
       "      <td>1</td>\n",
       "      <td>3</td>\n",
       "      <td>1</td>\n",
       "      <td>Gd</td>\n",
       "      <td>7</td>\n",
       "      <td>Typ</td>\n",
       "      <td>1</td>\n",
       "      <td>Gd</td>\n",
       "      <td>Attchd</td>\n",
       "      <td>2006.0</td>\n",
       "      <td>RFn</td>\n",
       "      <td>2</td>\n",
       "      <td>426</td>\n",
       "      <td>TA</td>\n",
       "      <td>TA</td>\n",
       "      <td>Y</td>\n",
       "      <td>100</td>\n",
       "      <td>24</td>\n",
       "      <td>0</td>\n",
       "      <td>0</td>\n",
       "      <td>0</td>\n",
       "      <td>0</td>\n",
       "      <td>NaN</td>\n",
       "      <td>NaN</td>\n",
       "      <td>NaN</td>\n",
       "      <td>0</td>\n",
       "      <td>9</td>\n",
       "      <td>2006</td>\n",
       "      <td>New</td>\n",
       "    </tr>\n",
       "    <tr>\n",
       "      <th>3</th>\n",
       "      <td>1989</td>\n",
       "      <td>902207150</td>\n",
       "      <td>30</td>\n",
       "      <td>RM</td>\n",
       "      <td>60.0</td>\n",
       "      <td>8520</td>\n",
       "      <td>Pave</td>\n",
       "      <td>NaN</td>\n",
       "      <td>Reg</td>\n",
       "      <td>Lvl</td>\n",
       "      <td>AllPub</td>\n",
       "      <td>Inside</td>\n",
       "      <td>Gtl</td>\n",
       "      <td>OldTown</td>\n",
       "      <td>Norm</td>\n",
       "      <td>Norm</td>\n",
       "      <td>1Fam</td>\n",
       "      <td>1Story</td>\n",
       "      <td>5</td>\n",
       "      <td>6</td>\n",
       "      <td>1923</td>\n",
       "      <td>2006</td>\n",
       "      <td>Gable</td>\n",
       "      <td>CompShg</td>\n",
       "      <td>Wd Sdng</td>\n",
       "      <td>Wd Sdng</td>\n",
       "      <td>None</td>\n",
       "      <td>0.0</td>\n",
       "      <td>Gd</td>\n",
       "      <td>TA</td>\n",
       "      <td>CBlock</td>\n",
       "      <td>TA</td>\n",
       "      <td>TA</td>\n",
       "      <td>No</td>\n",
       "      <td>Unf</td>\n",
       "      <td>0</td>\n",
       "      <td>Unf</td>\n",
       "      <td>0</td>\n",
       "      <td>968</td>\n",
       "      <td>968</td>\n",
       "      <td>GasA</td>\n",
       "      <td>TA</td>\n",
       "      <td>Y</td>\n",
       "      <td>SBrkr</td>\n",
       "      <td>968</td>\n",
       "      <td>0</td>\n",
       "      <td>0</td>\n",
       "      <td>968</td>\n",
       "      <td>0</td>\n",
       "      <td>0</td>\n",
       "      <td>1</td>\n",
       "      <td>0</td>\n",
       "      <td>2</td>\n",
       "      <td>1</td>\n",
       "      <td>TA</td>\n",
       "      <td>5</td>\n",
       "      <td>Typ</td>\n",
       "      <td>0</td>\n",
       "      <td>NaN</td>\n",
       "      <td>Detchd</td>\n",
       "      <td>1935.0</td>\n",
       "      <td>Unf</td>\n",
       "      <td>2</td>\n",
       "      <td>480</td>\n",
       "      <td>Fa</td>\n",
       "      <td>TA</td>\n",
       "      <td>N</td>\n",
       "      <td>0</td>\n",
       "      <td>0</td>\n",
       "      <td>184</td>\n",
       "      <td>0</td>\n",
       "      <td>0</td>\n",
       "      <td>0</td>\n",
       "      <td>NaN</td>\n",
       "      <td>NaN</td>\n",
       "      <td>NaN</td>\n",
       "      <td>0</td>\n",
       "      <td>7</td>\n",
       "      <td>2007</td>\n",
       "      <td>WD</td>\n",
       "    </tr>\n",
       "    <tr>\n",
       "      <th>4</th>\n",
       "      <td>625</td>\n",
       "      <td>535105100</td>\n",
       "      <td>20</td>\n",
       "      <td>RL</td>\n",
       "      <td>NaN</td>\n",
       "      <td>9500</td>\n",
       "      <td>Pave</td>\n",
       "      <td>NaN</td>\n",
       "      <td>IR1</td>\n",
       "      <td>Lvl</td>\n",
       "      <td>AllPub</td>\n",
       "      <td>Inside</td>\n",
       "      <td>Gtl</td>\n",
       "      <td>NAmes</td>\n",
       "      <td>Norm</td>\n",
       "      <td>Norm</td>\n",
       "      <td>1Fam</td>\n",
       "      <td>1Story</td>\n",
       "      <td>6</td>\n",
       "      <td>5</td>\n",
       "      <td>1963</td>\n",
       "      <td>1963</td>\n",
       "      <td>Gable</td>\n",
       "      <td>CompShg</td>\n",
       "      <td>Plywood</td>\n",
       "      <td>Plywood</td>\n",
       "      <td>BrkFace</td>\n",
       "      <td>247.0</td>\n",
       "      <td>TA</td>\n",
       "      <td>TA</td>\n",
       "      <td>CBlock</td>\n",
       "      <td>Gd</td>\n",
       "      <td>TA</td>\n",
       "      <td>No</td>\n",
       "      <td>BLQ</td>\n",
       "      <td>609</td>\n",
       "      <td>Unf</td>\n",
       "      <td>0</td>\n",
       "      <td>785</td>\n",
       "      <td>1394</td>\n",
       "      <td>GasA</td>\n",
       "      <td>Gd</td>\n",
       "      <td>Y</td>\n",
       "      <td>SBrkr</td>\n",
       "      <td>1394</td>\n",
       "      <td>0</td>\n",
       "      <td>0</td>\n",
       "      <td>1394</td>\n",
       "      <td>1</td>\n",
       "      <td>0</td>\n",
       "      <td>1</td>\n",
       "      <td>1</td>\n",
       "      <td>3</td>\n",
       "      <td>1</td>\n",
       "      <td>TA</td>\n",
       "      <td>6</td>\n",
       "      <td>Typ</td>\n",
       "      <td>2</td>\n",
       "      <td>Gd</td>\n",
       "      <td>Attchd</td>\n",
       "      <td>1963.0</td>\n",
       "      <td>RFn</td>\n",
       "      <td>2</td>\n",
       "      <td>514</td>\n",
       "      <td>TA</td>\n",
       "      <td>TA</td>\n",
       "      <td>Y</td>\n",
       "      <td>0</td>\n",
       "      <td>76</td>\n",
       "      <td>0</td>\n",
       "      <td>0</td>\n",
       "      <td>185</td>\n",
       "      <td>0</td>\n",
       "      <td>NaN</td>\n",
       "      <td>NaN</td>\n",
       "      <td>NaN</td>\n",
       "      <td>0</td>\n",
       "      <td>7</td>\n",
       "      <td>2009</td>\n",
       "      <td>WD</td>\n",
       "    </tr>\n",
       "  </tbody>\n",
       "</table>\n",
       "</div>"
      ],
      "text/plain": [
       "     Id        PID  MSSubClass MSZoning  LotFrontage  LotArea Street Alley  \\\n",
       "0  2658  902301120         190       RM         69.0     9142   Pave  Grvl   \n",
       "1  2718  905108090          90       RL          NaN     9662   Pave   NaN   \n",
       "2  2414  528218130          60       RL         58.0    17104   Pave   NaN   \n",
       "3  1989  902207150          30       RM         60.0     8520   Pave   NaN   \n",
       "4   625  535105100          20       RL          NaN     9500   Pave   NaN   \n",
       "\n",
       "  LotShape LandContour Utilities LotConfig LandSlope Neighborhood Condition1  \\\n",
       "0      Reg         Lvl    AllPub    Inside       Gtl      OldTown       Norm   \n",
       "1      IR1         Lvl    AllPub    Inside       Gtl       Sawyer       Norm   \n",
       "2      IR1         Lvl    AllPub    Inside       Gtl      Gilbert       Norm   \n",
       "3      Reg         Lvl    AllPub    Inside       Gtl      OldTown       Norm   \n",
       "4      IR1         Lvl    AllPub    Inside       Gtl        NAmes       Norm   \n",
       "\n",
       "  Condition2 BldgType HouseStyle  OverallQual  OverallCond  YearBuilt  \\\n",
       "0       Norm   2fmCon     2Story            6            8       1910   \n",
       "1       Norm   Duplex     1Story            5            4       1977   \n",
       "2       Norm     1Fam     2Story            7            5       2006   \n",
       "3       Norm     1Fam     1Story            5            6       1923   \n",
       "4       Norm     1Fam     1Story            6            5       1963   \n",
       "\n",
       "   YearRemod/Add RoofStyle RoofMatl Exterior1st Exterior2nd MasVnrType  \\\n",
       "0           1950     Gable  CompShg     AsbShng     AsbShng       None   \n",
       "1           1977     Gable  CompShg     Plywood     Plywood       None   \n",
       "2           2006     Gable  CompShg     VinylSd     VinylSd       None   \n",
       "3           2006     Gable  CompShg     Wd Sdng     Wd Sdng       None   \n",
       "4           1963     Gable  CompShg     Plywood     Plywood    BrkFace   \n",
       "\n",
       "   MasVnrArea ExterQual ExterCond Foundation BsmtQual BsmtCond BsmtExposure  \\\n",
       "0         0.0        TA        Fa      Stone       Fa       TA           No   \n",
       "1         0.0        TA        TA     CBlock       Gd       TA           No   \n",
       "2         0.0        Gd        TA      PConc       Gd       Gd           Av   \n",
       "3         0.0        Gd        TA     CBlock       TA       TA           No   \n",
       "4       247.0        TA        TA     CBlock       Gd       TA           No   \n",
       "\n",
       "  BsmtFinType1  BsmtFinSF1 BsmtFinType2  BsmtFinSF2  BsmtUnfSF  TotalBsmtSF  \\\n",
       "0          Unf           0          Unf           0       1020         1020   \n",
       "1          Unf           0          Unf           0       1967         1967   \n",
       "2          GLQ         554          Unf           0        100          654   \n",
       "3          Unf           0          Unf           0        968          968   \n",
       "4          BLQ         609          Unf           0        785         1394   \n",
       "\n",
       "  Heating HeatingQC CentralAir Electrical  1stFlrSF  2ndFlrSF  LowQualFinSF  \\\n",
       "0    GasA        Gd          N      FuseP       908      1020             0   \n",
       "1    GasA        TA          Y      SBrkr      1967         0             0   \n",
       "2    GasA        Ex          Y      SBrkr       664       832             0   \n",
       "3    GasA        TA          Y      SBrkr       968         0             0   \n",
       "4    GasA        Gd          Y      SBrkr      1394         0             0   \n",
       "\n",
       "   GrLivArea  BsmtFullBath  BsmtHalfBath  FullBath  HalfBath  BedroomAbvGr  \\\n",
       "0       1928             0             0         2         0             4   \n",
       "1       1967             0             0         2         0             6   \n",
       "2       1496             1             0         2         1             3   \n",
       "3        968             0             0         1         0             2   \n",
       "4       1394             1             0         1         1             3   \n",
       "\n",
       "   KitchenAbvGr KitchenQual  TotRmsAbvGrd Functional  Fireplaces FireplaceQu  \\\n",
       "0             2          Fa             9        Typ           0         NaN   \n",
       "1             2          TA            10        Typ           0         NaN   \n",
       "2             1          Gd             7        Typ           1          Gd   \n",
       "3             1          TA             5        Typ           0         NaN   \n",
       "4             1          TA             6        Typ           2          Gd   \n",
       "\n",
       "  GarageType  GarageYrBlt GarageFinish  GarageCars  GarageArea GarageQual  \\\n",
       "0     Detchd       1910.0          Unf           1         440         Po   \n",
       "1     Attchd       1977.0          Fin           2         580         TA   \n",
       "2     Attchd       2006.0          RFn           2         426         TA   \n",
       "3     Detchd       1935.0          Unf           2         480         Fa   \n",
       "4     Attchd       1963.0          RFn           2         514         TA   \n",
       "\n",
       "  GarageCond PavedDrive  WoodDeckSF  OpenPorchSF  EnclosedPorch  3SsnPorch  \\\n",
       "0         Po          Y           0           60            112          0   \n",
       "1         TA          Y         170            0              0          0   \n",
       "2         TA          Y         100           24              0          0   \n",
       "3         TA          N           0            0            184          0   \n",
       "4         TA          Y           0           76              0          0   \n",
       "\n",
       "   ScreenPorch  PoolArea PoolQC Fence MiscFeature  MiscVal  MoSold  YrSold  \\\n",
       "0            0         0    NaN   NaN         NaN        0       4    2006   \n",
       "1            0         0    NaN   NaN         NaN        0       8    2006   \n",
       "2            0         0    NaN   NaN         NaN        0       9    2006   \n",
       "3            0         0    NaN   NaN         NaN        0       7    2007   \n",
       "4          185         0    NaN   NaN         NaN        0       7    2009   \n",
       "\n",
       "  SaleType  \n",
       "0      WD   \n",
       "1      WD   \n",
       "2      New  \n",
       "3      WD   \n",
       "4      WD   "
      ]
     },
     "execution_count": 9,
     "metadata": {},
     "output_type": "execute_result"
    }
   ],
   "source": [
    "## Data import\n",
    "df = pd.read_csv('../datasets/test.csv') # importing training data set\n",
    "df.head() # display the head"
   ]
  },
  {
   "cell_type": "markdown",
   "id": "cef3e505-cf77-4675-bd9c-1a724af41e89",
   "metadata": {
    "tags": []
   },
   "source": [
    "## Data Cleaning"
   ]
  },
  {
   "cell_type": "markdown",
   "id": "593c9a6d-4506-4420-bc0a-7fe57dc52ec8",
   "metadata": {
    "tags": []
   },
   "source": [
    "### Deleting Index (ID) columns"
   ]
  },
  {
   "cell_type": "markdown",
   "id": "fa76f829-3988-459e-a174-0985d87158de",
   "metadata": {},
   "source": [
    "Identification (ID) columns should be deleted as they provide no predictive capability"
   ]
  },
  {
   "cell_type": "code",
   "execution_count": 10,
   "id": "8288c669-9415-4957-84a9-6e134b51afb5",
   "metadata": {},
   "outputs": [],
   "source": [
    "df.drop(['Id','PID'],axis=1,inplace=True)"
   ]
  },
  {
   "cell_type": "markdown",
   "id": "7586f39a-85dc-4f14-8858-5671d287b08c",
   "metadata": {
    "tags": []
   },
   "source": [
    "### Checking for Null Values"
   ]
  },
  {
   "cell_type": "code",
   "execution_count": 11,
   "id": "f5712be2-88a4-423c-8feb-8e2c29818177",
   "metadata": {
    "tags": []
   },
   "outputs": [
    {
     "data": {
      "text/html": [
       "<div>\n",
       "<style scoped>\n",
       "    .dataframe tbody tr th:only-of-type {\n",
       "        vertical-align: middle;\n",
       "    }\n",
       "\n",
       "    .dataframe tbody tr th {\n",
       "        vertical-align: top;\n",
       "    }\n",
       "\n",
       "    .dataframe thead th {\n",
       "        text-align: right;\n",
       "    }\n",
       "</style>\n",
       "<table border=\"1\" class=\"dataframe\">\n",
       "  <thead>\n",
       "    <tr style=\"text-align: right;\">\n",
       "      <th></th>\n",
       "      <th>no_of_null</th>\n",
       "      <th>ratio_of_null</th>\n",
       "    </tr>\n",
       "  </thead>\n",
       "  <tbody>\n",
       "    <tr>\n",
       "      <th>LotFrontage</th>\n",
       "      <td>160</td>\n",
       "      <td>0.182232</td>\n",
       "    </tr>\n",
       "    <tr>\n",
       "      <th>Alley</th>\n",
       "      <td>820</td>\n",
       "      <td>0.933941</td>\n",
       "    </tr>\n",
       "    <tr>\n",
       "      <th>MasVnrType</th>\n",
       "      <td>1</td>\n",
       "      <td>0.001139</td>\n",
       "    </tr>\n",
       "    <tr>\n",
       "      <th>MasVnrArea</th>\n",
       "      <td>1</td>\n",
       "      <td>0.001139</td>\n",
       "    </tr>\n",
       "    <tr>\n",
       "      <th>BsmtQual</th>\n",
       "      <td>25</td>\n",
       "      <td>0.028474</td>\n",
       "    </tr>\n",
       "    <tr>\n",
       "      <th>BsmtCond</th>\n",
       "      <td>25</td>\n",
       "      <td>0.028474</td>\n",
       "    </tr>\n",
       "    <tr>\n",
       "      <th>BsmtExposure</th>\n",
       "      <td>25</td>\n",
       "      <td>0.028474</td>\n",
       "    </tr>\n",
       "    <tr>\n",
       "      <th>BsmtFinType1</th>\n",
       "      <td>25</td>\n",
       "      <td>0.028474</td>\n",
       "    </tr>\n",
       "    <tr>\n",
       "      <th>BsmtFinType2</th>\n",
       "      <td>25</td>\n",
       "      <td>0.028474</td>\n",
       "    </tr>\n",
       "    <tr>\n",
       "      <th>Electrical</th>\n",
       "      <td>1</td>\n",
       "      <td>0.001139</td>\n",
       "    </tr>\n",
       "    <tr>\n",
       "      <th>FireplaceQu</th>\n",
       "      <td>422</td>\n",
       "      <td>0.480638</td>\n",
       "    </tr>\n",
       "    <tr>\n",
       "      <th>GarageType</th>\n",
       "      <td>44</td>\n",
       "      <td>0.050114</td>\n",
       "    </tr>\n",
       "    <tr>\n",
       "      <th>GarageYrBlt</th>\n",
       "      <td>45</td>\n",
       "      <td>0.051253</td>\n",
       "    </tr>\n",
       "    <tr>\n",
       "      <th>GarageFinish</th>\n",
       "      <td>45</td>\n",
       "      <td>0.051253</td>\n",
       "    </tr>\n",
       "    <tr>\n",
       "      <th>GarageQual</th>\n",
       "      <td>45</td>\n",
       "      <td>0.051253</td>\n",
       "    </tr>\n",
       "    <tr>\n",
       "      <th>GarageCond</th>\n",
       "      <td>45</td>\n",
       "      <td>0.051253</td>\n",
       "    </tr>\n",
       "    <tr>\n",
       "      <th>PoolQC</th>\n",
       "      <td>874</td>\n",
       "      <td>0.995444</td>\n",
       "    </tr>\n",
       "    <tr>\n",
       "      <th>Fence</th>\n",
       "      <td>706</td>\n",
       "      <td>0.804100</td>\n",
       "    </tr>\n",
       "    <tr>\n",
       "      <th>MiscFeature</th>\n",
       "      <td>837</td>\n",
       "      <td>0.953303</td>\n",
       "    </tr>\n",
       "  </tbody>\n",
       "</table>\n",
       "</div>"
      ],
      "text/plain": [
       "              no_of_null  ratio_of_null\n",
       "LotFrontage          160       0.182232\n",
       "Alley                820       0.933941\n",
       "MasVnrType             1       0.001139\n",
       "MasVnrArea             1       0.001139\n",
       "BsmtQual              25       0.028474\n",
       "BsmtCond              25       0.028474\n",
       "BsmtExposure          25       0.028474\n",
       "BsmtFinType1          25       0.028474\n",
       "BsmtFinType2          25       0.028474\n",
       "Electrical             1       0.001139\n",
       "FireplaceQu          422       0.480638\n",
       "GarageType            44       0.050114\n",
       "GarageYrBlt           45       0.051253\n",
       "GarageFinish          45       0.051253\n",
       "GarageQual            45       0.051253\n",
       "GarageCond            45       0.051253\n",
       "PoolQC               874       0.995444\n",
       "Fence                706       0.804100\n",
       "MiscFeature          837       0.953303"
      ]
     },
     "execution_count": 11,
     "metadata": {},
     "output_type": "execute_result"
    }
   ],
   "source": [
    "nulls = pd.DataFrame() # instantiate dataframe to store info on null values in different columns\n",
    "nulls['no_of_null'] = df.isnull().sum() # calculate the number of nulls in each column\n",
    "nulls['ratio_of_null'] = nulls['no_of_null'] / df.shape[0] # calculate the ratio of nulls to number of rows in each column\n",
    "nulls[~(nulls==0).all(axis=1)] # show all columns with null values"
   ]
  },
  {
   "cell_type": "markdown",
   "id": "c035413d-19d6-4e0f-81fa-129ba9774186",
   "metadata": {
    "tags": []
   },
   "source": [
    "### Dealing with Null Values"
   ]
  },
  {
   "cell_type": "markdown",
   "id": "3f307287-c0f8-401f-920b-a27a10e6ffbf",
   "metadata": {
    "tags": []
   },
   "source": [
    "#### Columns with High Ratio (> 90%) of Null Values"
   ]
  },
  {
   "cell_type": "code",
   "execution_count": 12,
   "id": "9f8b8876-45c1-4809-991b-1d94e1184d9b",
   "metadata": {},
   "outputs": [
    {
     "data": {
      "text/html": [
       "<div>\n",
       "<style scoped>\n",
       "    .dataframe tbody tr th:only-of-type {\n",
       "        vertical-align: middle;\n",
       "    }\n",
       "\n",
       "    .dataframe tbody tr th {\n",
       "        vertical-align: top;\n",
       "    }\n",
       "\n",
       "    .dataframe thead th {\n",
       "        text-align: right;\n",
       "    }\n",
       "</style>\n",
       "<table border=\"1\" class=\"dataframe\">\n",
       "  <thead>\n",
       "    <tr style=\"text-align: right;\">\n",
       "      <th></th>\n",
       "      <th>no_of_null</th>\n",
       "      <th>ratio_of_null</th>\n",
       "    </tr>\n",
       "  </thead>\n",
       "  <tbody>\n",
       "    <tr>\n",
       "      <th>Alley</th>\n",
       "      <td>820</td>\n",
       "      <td>0.933941</td>\n",
       "    </tr>\n",
       "    <tr>\n",
       "      <th>PoolQC</th>\n",
       "      <td>874</td>\n",
       "      <td>0.995444</td>\n",
       "    </tr>\n",
       "    <tr>\n",
       "      <th>MiscFeature</th>\n",
       "      <td>837</td>\n",
       "      <td>0.953303</td>\n",
       "    </tr>\n",
       "  </tbody>\n",
       "</table>\n",
       "</div>"
      ],
      "text/plain": [
       "             no_of_null  ratio_of_null\n",
       "Alley               820       0.933941\n",
       "PoolQC              874       0.995444\n",
       "MiscFeature         837       0.953303"
      ]
     },
     "execution_count": 12,
     "metadata": {},
     "output_type": "execute_result"
    }
   ],
   "source": [
    "nulls[nulls['ratio_of_null'] > 0.9] # displaying columns with high ratio of null values"
   ]
  },
  {
   "cell_type": "markdown",
   "id": "75faf0c3-ca44-4bd6-b0df-4bc08028b5e9",
   "metadata": {},
   "source": [
    "Typically these columns with high null ratios should be dropped. However, according to the data documentations, the null values here refer to the absence of such feature. As such we will impute the null values as the string 'NA'."
   ]
  },
  {
   "cell_type": "code",
   "execution_count": 13,
   "id": "a1e648c9-0793-4594-975b-844336465cf3",
   "metadata": {},
   "outputs": [],
   "source": [
    "cols_to_impute = nulls[nulls['ratio_of_null'] > 0.9].index # getting the column names to be dropped\n",
    "df[cols_to_impute] = df[cols_to_impute].fillna('NA') # imputing the columns based on list above"
   ]
  },
  {
   "cell_type": "markdown",
   "id": "46f9cf6b-4f43-4043-a9df-204341a2f660",
   "metadata": {
    "tags": []
   },
   "source": [
    "#### Columns with Low Ratio (< 10%) of Null Values"
   ]
  },
  {
   "cell_type": "markdown",
   "id": "2c399cc7-d6bd-4f60-a581-ad2f53219143",
   "metadata": {},
   "source": [
    "Generally columns with low ratio of null values can be imputed. The following sections discusses the various strategies used for Imputation on the various columns:"
   ]
  },
  {
   "cell_type": "markdown",
   "id": "b88d0802-338a-41de-bf55-076b9068530b",
   "metadata": {
    "tags": []
   },
   "source": [
    "##### Garage-Related Columns"
   ]
  },
  {
   "cell_type": "markdown",
   "id": "47a8d4a7-6a84-4a23-9ed8-01cc20767da4",
   "metadata": {},
   "source": [
    "The NaN values in Garage is due to the absence of garage in the house. Hence we can impute the numerical values as 0, and create a new category for all the categorical variables which states 'No Garage'"
   ]
  },
  {
   "cell_type": "code",
   "execution_count": 14,
   "id": "ca163a75-5543-491b-8f72-81445ebd5535",
   "metadata": {},
   "outputs": [
    {
     "data": {
      "text/plain": [
       "GarageType       object\n",
       "GarageYrBlt     float64\n",
       "GarageFinish     object\n",
       "GarageCars        int64\n",
       "GarageArea        int64\n",
       "GarageQual       object\n",
       "GarageCond       object\n",
       "dtype: object"
      ]
     },
     "execution_count": 14,
     "metadata": {},
     "output_type": "execute_result"
    }
   ],
   "source": [
    "garage_cols = [col for col in nulls.index if 'Garage' in col] # selecting all the columns that contains the word 'Garage'\n",
    "df[garage_cols].dtypes # testing the data type of the garage-related columns"
   ]
  },
  {
   "cell_type": "code",
   "execution_count": 15,
   "id": "0e8a0792-e8d5-4eaf-a407-05cf9b0300e8",
   "metadata": {},
   "outputs": [],
   "source": [
    "garage_cols_categorical = df[garage_cols].select_dtypes('object').columns # selecting garage-related columns with categorical values\n",
    "df[garage_cols_categorical] = df[garage_cols_categorical].fillna('NA') # imputing the columns with 'NA'"
   ]
  },
  {
   "cell_type": "code",
   "execution_count": 16,
   "id": "30b8d245-fcf7-42ec-9e37-935385c7f693",
   "metadata": {},
   "outputs": [],
   "source": [
    "df[['GarageCars','GarageArea']] = df[['GarageCars','GarageArea']].fillna(0) # imputing the numerical columns with 0 (no garage)"
   ]
  },
  {
   "cell_type": "markdown",
   "id": "2ba2dc40-d509-45c2-8a7e-95d39b19be59",
   "metadata": {},
   "source": [
    "Unlike the no of cars and Garage Area, we would not be able to impute the year with 0, instead, we can impute the mean value for the year (will be done in later cells)"
   ]
  },
  {
   "cell_type": "markdown",
   "id": "41a409e8-8c05-4b4d-8938-234a623fdfa0",
   "metadata": {
    "tags": []
   },
   "source": [
    "##### Remaining Columns"
   ]
  },
  {
   "cell_type": "code",
   "execution_count": 17,
   "id": "d4330d61-b3e5-4f02-841a-3919306989a9",
   "metadata": {},
   "outputs": [],
   "source": [
    "cols_to_impute = nulls[(nulls['ratio_of_null'] < 0.1) & (~(nulls==0).all(axis=1))].index # getting the column names to be imputed"
   ]
  },
  {
   "cell_type": "code",
   "execution_count": 18,
   "id": "081b7df4-7087-4bcf-bf08-da203419ff5d",
   "metadata": {},
   "outputs": [],
   "source": [
    "# imputing numeric columns with column-wise mean\n",
    "cols_to_impute_numeric = df[cols_to_impute].select_dtypes(np.number).columns # getting numeric column names to be imputed\n",
    "df[cols_to_impute_numeric] = df[cols_to_impute_numeric].fillna(df[cols_to_impute_numeric].mean()) # imputing the numeric columns using its column-wise mean"
   ]
  },
  {
   "cell_type": "code",
   "execution_count": 19,
   "id": "47e8fd4a-4374-4172-9d74-476d25012cf2",
   "metadata": {},
   "outputs": [],
   "source": [
    "# imputing categoric columns with column-wise mode\n",
    "cols_to_impute_categoric = df[cols_to_impute].select_dtypes(['object']).columns # getting categoric column names to be imputed\n",
    "\n",
    "for column in cols_to_impute_categoric: # imputing the categoric columns using its mode\n",
    "    column_mode = df[column].mode()[0] # getting the column-wise mode\n",
    "    df[column].fillna(column_mode,inplace=True) # imputing the NaN values with mode"
   ]
  },
  {
   "cell_type": "markdown",
   "id": "3f6ea1fb-4d4e-46e8-bd1a-979ab531dc60",
   "metadata": {
    "tags": []
   },
   "source": [
    "#### Remainder of Columns"
   ]
  },
  {
   "cell_type": "code",
   "execution_count": 20,
   "id": "64e501eb-9097-4a4c-a450-e90f913e7f8c",
   "metadata": {},
   "outputs": [
    {
     "data": {
      "text/html": [
       "<div>\n",
       "<style scoped>\n",
       "    .dataframe tbody tr th:only-of-type {\n",
       "        vertical-align: middle;\n",
       "    }\n",
       "\n",
       "    .dataframe tbody tr th {\n",
       "        vertical-align: top;\n",
       "    }\n",
       "\n",
       "    .dataframe thead th {\n",
       "        text-align: right;\n",
       "    }\n",
       "</style>\n",
       "<table border=\"1\" class=\"dataframe\">\n",
       "  <thead>\n",
       "    <tr style=\"text-align: right;\">\n",
       "      <th></th>\n",
       "      <th>no_of_null</th>\n",
       "      <th>ratio_of_null</th>\n",
       "    </tr>\n",
       "  </thead>\n",
       "  <tbody>\n",
       "    <tr>\n",
       "      <th>LotFrontage</th>\n",
       "      <td>160</td>\n",
       "      <td>0.182232</td>\n",
       "    </tr>\n",
       "    <tr>\n",
       "      <th>FireplaceQu</th>\n",
       "      <td>422</td>\n",
       "      <td>0.480638</td>\n",
       "    </tr>\n",
       "    <tr>\n",
       "      <th>Fence</th>\n",
       "      <td>706</td>\n",
       "      <td>0.804100</td>\n",
       "    </tr>\n",
       "  </tbody>\n",
       "</table>\n",
       "</div>"
      ],
      "text/plain": [
       "             no_of_null  ratio_of_null\n",
       "LotFrontage         160       0.182232\n",
       "FireplaceQu         422       0.480638\n",
       "Fence               706       0.804100"
      ]
     },
     "execution_count": 20,
     "metadata": {},
     "output_type": "execute_result"
    }
   ],
   "source": [
    "nulls[(nulls['ratio_of_null'] >= 0.1) & (nulls['ratio_of_null'] <= 0.9)]"
   ]
  },
  {
   "cell_type": "markdown",
   "id": "5e0e82cb-c179-449d-8202-ff3d46245048",
   "metadata": {
    "tags": []
   },
   "source": [
    "##### Lot Frontage"
   ]
  },
  {
   "cell_type": "markdown",
   "id": "292116c0-5972-45a5-8a7d-4d75ada95aff",
   "metadata": {},
   "source": [
    "Since there are 60% of the data missing we need to use a more advanced method for imputation"
   ]
  },
  {
   "cell_type": "code",
   "execution_count": 22,
   "id": "baf40e21-4cbf-44c2-a318-ca3e17771ab8",
   "metadata": {},
   "outputs": [],
   "source": [
    "# using simple linear regression model for imputing the value of Lot Frontage based on Lot Area\n",
    "\n",
    "# importing models from sklearn\n",
    "from sklearn import linear_model\n",
    "\n",
    "df_impute = df[['LotArea','LotFrontage']] # create dataframe for imputing\n",
    "df_impute = df_impute.dropna() # drop the NaN values from imputation dataframe\n",
    "\n",
    "# # create a Linear Regression model to estimate the missing data\n",
    "impute_model = linear_model.LinearRegression() # instantiate LR model\n",
    "impute_model.fit(X = df_impute['LotArea'].values.reshape(-1, 1), y = df_impute['LotFrontage'].values) # fitting the model based on the imputation dataframe\n",
    "\n",
    "df['LotFrontageIMPUTED'] = impute_model.predict(df['LotArea'].values.reshape(-1, 1)) # getting the imputation value from the impute model\n",
    "\n",
    "df['LotFrontage'] = df['LotFrontage'].fillna(df['LotFrontageIMPUTED']) # imputing the missing value in Lot Frontage\n",
    "\n",
    "df.drop('LotFrontageIMPUTED',axis=1,inplace=True)# dropping the IMPUTED column"
   ]
  },
  {
   "cell_type": "markdown",
   "id": "17a0d501-3866-402b-892d-e8c911780282",
   "metadata": {
    "tags": []
   },
   "source": [
    "##### Fireplace Qu"
   ]
  },
  {
   "cell_type": "code",
   "execution_count": 23,
   "id": "71cbb932-e0d3-46d7-8f53-21aa2ad5072d",
   "metadata": {},
   "outputs": [
    {
     "data": {
      "text/html": [
       "<div>\n",
       "<style scoped>\n",
       "    .dataframe tbody tr th:only-of-type {\n",
       "        vertical-align: middle;\n",
       "    }\n",
       "\n",
       "    .dataframe tbody tr th {\n",
       "        vertical-align: top;\n",
       "    }\n",
       "\n",
       "    .dataframe thead th {\n",
       "        text-align: right;\n",
       "    }\n",
       "</style>\n",
       "<table border=\"1\" class=\"dataframe\">\n",
       "  <thead>\n",
       "    <tr style=\"text-align: right;\">\n",
       "      <th></th>\n",
       "      <th>Fireplaces</th>\n",
       "      <th>FireplaceQu</th>\n",
       "    </tr>\n",
       "  </thead>\n",
       "  <tbody>\n",
       "    <tr>\n",
       "      <th>0</th>\n",
       "      <td>0</td>\n",
       "      <td>NaN</td>\n",
       "    </tr>\n",
       "    <tr>\n",
       "      <th>1</th>\n",
       "      <td>0</td>\n",
       "      <td>NaN</td>\n",
       "    </tr>\n",
       "    <tr>\n",
       "      <th>2</th>\n",
       "      <td>1</td>\n",
       "      <td>Gd</td>\n",
       "    </tr>\n",
       "    <tr>\n",
       "      <th>3</th>\n",
       "      <td>0</td>\n",
       "      <td>NaN</td>\n",
       "    </tr>\n",
       "    <tr>\n",
       "      <th>4</th>\n",
       "      <td>2</td>\n",
       "      <td>Gd</td>\n",
       "    </tr>\n",
       "  </tbody>\n",
       "</table>\n",
       "</div>"
      ],
      "text/plain": [
       "   Fireplaces FireplaceQu\n",
       "0           0         NaN\n",
       "1           0         NaN\n",
       "2           1          Gd\n",
       "3           0         NaN\n",
       "4           2          Gd"
      ]
     },
     "execution_count": 23,
     "metadata": {},
     "output_type": "execute_result"
    }
   ],
   "source": [
    "# looking at the fireplace columns\n",
    "df[['Fireplaces','FireplaceQu']].head()"
   ]
  },
  {
   "cell_type": "markdown",
   "id": "dbeeeec2-09c6-45e6-a08c-86f9f0d1652e",
   "metadata": {},
   "source": [
    "It seems that the null values correspond to rows with no fireplaces"
   ]
  },
  {
   "cell_type": "code",
   "execution_count": 24,
   "id": "2f9111f7-dda7-4c3c-bcad-4bcc1d3ebae3",
   "metadata": {},
   "outputs": [],
   "source": [
    "df['FireplaceQu'] = df['FireplaceQu'].fillna('NA') # filling the NaN values with the text 'NoFireplace"
   ]
  },
  {
   "cell_type": "markdown",
   "id": "d8aecd8d-dcdc-4c7f-815a-866efe34f41a",
   "metadata": {
    "tags": []
   },
   "source": [
    "##### Fence"
   ]
  },
  {
   "cell_type": "code",
   "execution_count": 25,
   "id": "3afb9c6d-9a68-454c-be87-f1d020325aad",
   "metadata": {},
   "outputs": [],
   "source": [
    "df['Fence'] = df['Fence'].fillna('NA') # filling the NaN values with the text 'NoFence'"
   ]
  },
  {
   "cell_type": "markdown",
   "id": "9b390cc1-253a-469a-a9d5-0556660e8a2a",
   "metadata": {
    "tags": []
   },
   "source": [
    "#### Check that there is no more nan values"
   ]
  },
  {
   "cell_type": "code",
   "execution_count": 26,
   "id": "97fa316a-3ec1-4ca7-9e7a-b5abfa072236",
   "metadata": {},
   "outputs": [
    {
     "data": {
      "text/plain": [
       "0"
      ]
     },
     "execution_count": 26,
     "metadata": {},
     "output_type": "execute_result"
    }
   ],
   "source": [
    "df.isna().sum().sum()"
   ]
  },
  {
   "cell_type": "markdown",
   "id": "6fac134c-b338-483e-bc47-2fa14b8128d2",
   "metadata": {},
   "source": [
    "There are no more null values in the dataframe"
   ]
  },
  {
   "cell_type": "markdown",
   "id": "e203f5a1-8f02-41d9-9f1b-8bd5d50acdb8",
   "metadata": {
    "tags": []
   },
   "source": [
    "## Setting Up Features and Target Variables"
   ]
  },
  {
   "cell_type": "code",
   "execution_count": 27,
   "id": "a93b7497-fdd8-4e9d-b8e1-43c8def66e47",
   "metadata": {},
   "outputs": [],
   "source": [
    "X = df"
   ]
  },
  {
   "cell_type": "markdown",
   "id": "6ff1f74e-d6b1-4092-9bb5-b258ae1a2b75",
   "metadata": {
    "tags": []
   },
   "source": [
    "### Converting Ordinal Categorical Variables"
   ]
  },
  {
   "cell_type": "code",
   "execution_count": 28,
   "id": "5e664e9f-488b-4ee1-9be5-216de8108dda",
   "metadata": {},
   "outputs": [],
   "source": [
    "grade_columns = ['ExterQual', 'ExterCond', 'BsmtQual', 'BsmtCond', 'HeatingQC', 'KitchenQual', 'FireplaceQu', 'GarageQual', 'GarageCond','PoolQC'] # storing the columns which contains grading\n",
    "grade_scoring = {'NA':0,'Po':1,'Fa':2,'TA':3,'Gd':4,'Ex':5} # assinging each grade an ordinal score\n",
    "\n",
    "for column in grade_columns:\n",
    "    X[column] = X[column].map(grade_scoring) # replacing the grades with the scoring"
   ]
  },
  {
   "cell_type": "markdown",
   "id": "d8e873bd-e38b-434d-a148-5f511e2f4283",
   "metadata": {},
   "source": [
    "Based on the [data documentation](http://jse.amstat.org/v19n3/decock/DataDocumentation.txt), there are other ordinal columns in the dataset. The following cells will deal with each of the ordinal columns, assinging the score to each of the orginal columns."
   ]
  },
  {
   "cell_type": "code",
   "execution_count": 29,
   "id": "e797e6b5-afe3-4d6c-a6fe-b90b5d356d96",
   "metadata": {},
   "outputs": [],
   "source": [
    "X['LotShape'] = X['LotShape'].map({'IR3':0,'IR2':1,'IR1':2,'Reg':3})\n",
    "X['Utilities'] = X['Utilities'].map({'NoSeWa':0,'NoSewr':1,'AllPub':2})\n",
    "X['LandSlope'] = X['LandSlope'].map({'Sev':0,'Mod':1,'Gtl':2})\n",
    "X['BsmtExposure'] = X['BsmtExposure'].map({'Gd':0,'Av':1,'Mn':2,'No':3})\n",
    "X['BsmtFinType1'] = X['BsmtFinType1'].map({'Unf':0,'LwQ':1,'Rec':2,'BLQ':3,'ALQ':4,'GLQ':5})\n",
    "X['BsmtFinType2'] = X['BsmtFinType2'].map({'Unf':0,'LwQ':1,'Rec':2,'BLQ':3,'ALQ':4,'GLQ':5})\n",
    "X['Electrical'] = X['Electrical'].map({'Mix':0,'FuseP':1,'FuseF':2,'FuseA':3,'SBrkr':4})\n",
    "X['Functional'] = X['Functional'].map({'Sal':0,'Sev':1,'Maj2':2,'Maj1':3,'Mod':4,'Min2':5,'Min1':6,'Typ':7})\n",
    "X['GarageFinish'] = X['GarageFinish'].map({'NA':0,'Unf':1,'RFn':2,'Fin':3})\n",
    "X['PavedDrive'] = X['PavedDrive'].map({'N':0,'P':1,'Y':2})\n",
    "X['Fence'] = X['Fence'].map({'NA':0,'MnWw':1,'GdWo':2,'MnPrv':3,'GdPrv':0})"
   ]
  },
  {
   "cell_type": "markdown",
   "id": "ad402902-7353-450e-be91-240bd4b89ed0",
   "metadata": {},
   "source": [
    "The remainder columns are all nominal categorical variables and can then be one-hot encoded"
   ]
  },
  {
   "cell_type": "code",
   "execution_count": 31,
   "id": "f07be42e-8cc2-4203-aa83-795950d018b7",
   "metadata": {},
   "outputs": [
    {
     "name": "stdout",
     "output_type": "stream",
     "text": [
      "0\n"
     ]
    }
   ],
   "source": [
    "print(X.isna().sum().sum())"
   ]
  },
  {
   "cell_type": "markdown",
   "id": "5573e3b6-5a6a-4e21-b8ec-d9297445b133",
   "metadata": {
    "tags": []
   },
   "source": [
    "### One-Hot Encoding for Nominal Categorical Variables"
   ]
  },
  {
   "cell_type": "code",
   "execution_count": 32,
   "id": "778bc8cb-0223-461a-b68d-127cbbf21266",
   "metadata": {},
   "outputs": [],
   "source": [
    "X_dummies = pd.get_dummies(X.select_dtypes('object'),drop_first=True) # getting the dummy variables from only the categorical variables\n",
    "X = X.drop(X.select_dtypes('object').columns,axis=1) # dropping the columns with categorical variables\n",
    "X = pd.concat([X,X_dummies],axis=1) # concatenating the numerical X matrix (X) and the dummified categorical X matrix (X_dummies)"
   ]
  },
  {
   "cell_type": "code",
   "execution_count": 35,
   "id": "71751304-7623-4520-a614-04ea281c28fb",
   "metadata": {},
   "outputs": [],
   "source": [
    "X.drop('GarageCars',axis=1,inplace=True) # dropping garaga cars as it is multi-colinear with GarageArea"
   ]
  },
  {
   "cell_type": "code",
   "execution_count": 38,
   "id": "45b3a5b5-3f2b-4c32-8003-5228ce678059",
   "metadata": {},
   "outputs": [],
   "source": [
    "x_scaler = StandardScaler() # initialize the scaler\n",
    "\n",
    "X = x_scaler.fit_transform(X) # fit and transform the X\n",
    "\n",
    "X_test = x_scaler.transform(X_test) # transform the X_test\n",
    "X_test = pd.DataFrame(X_test,columns=X.columns) #"
   ]
  },
  {
   "cell_type": "markdown",
   "id": "9946a52b-3541-4f2a-8a32-3e87a973fd5d",
   "metadata": {},
   "source": [
    "### Adding Non-Linearity"
   ]
  },
  {
   "cell_type": "code",
   "execution_count": null,
   "id": "1c8f660a-d289-4297-ba87-a43b671456d9",
   "metadata": {
    "jupyter": {
     "source_hidden": true
    },
    "tags": []
   },
   "outputs": [
    {
     "data": {
      "image/png": "[encoded data removed]",
      "text/plain": [
       "<Figure size 432x288 with 1 Axes>"
      ]
     },
     "metadata": {
      "needs_background": "light"
     },
     "output_type": "display_data"
    },
    {
     "data": {
      "image/png": "[encoded data removed]",
      "text/plain": [
       "<Figure size 432x288 with 1 Axes>"
      ]
     },
     "metadata": {
      "needs_background": "light"
     },
     "output_type": "display_data"
    }
   ],
   "source": [
    "sns.boxplot(x=X['OverallQual'],y=y)\n",
    "plt.show()\n",
    "sns.boxplot(x=X['BsmtQual'],y=y)\n",
    "plt.show()"
   ]
  },
  {
   "cell_type": "code",
   "execution_count": null,
   "id": "6a98b098-81db-4b90-9165-b5ae05718867",
   "metadata": {
    "jupyter": {
     "source_hidden": true
    },
    "tags": []
   },
   "outputs": [
    {
     "data": {
      "image/png": "[encoded data removed]",
      "text/plain": [
       "<Figure size 432x288 with 1 Axes>"
      ]
     },
     "metadata": {
      "needs_background": "light"
     },
     "output_type": "display_data"
    },
    {
     "data": {
      "image/png": "[encoded data removed]",
      "text/plain": [
       "<Figure size 432x288 with 1 Axes>"
      ]
     },
     "metadata": {
      "needs_background": "light"
     },
     "output_type": "display_data"
    }
   ],
   "source": [
    "sns.boxplot(x=X['OverallCond'],y=y)\n",
    "plt.show()\n",
    "sns.boxplot(x=X['BsmtCond'],y=y)\n",
    "plt.show()"
   ]
  },
  {
   "cell_type": "code",
   "execution_count": null,
   "id": "d261f3ca-5a36-4ba3-9a31-323df1fc8320",
   "metadata": {},
   "outputs": [],
   "source": [
    "conditions_columns = ['OverallCond','ExterCond','BsmtCond','HeatingQC','GarageCond','PoolQC']\n",
    "quality_columns = ['OverallQual','BsmtQual','KitchenQual','ExterQual','FireplaceQu','GarageQual']"
   ]
  },
  {
   "cell_type": "code",
   "execution_count": 36,
   "id": "1ce1b2d8-9dca-4ed1-a05c-4d3e67cd4cc7",
   "metadata": {},
   "outputs": [
    {
     "ename": "NameError",
     "evalue": "name 'quality_columns' is not defined",
     "output_type": "error",
     "traceback": [
      "\u001b[1;31m---------------------------------------------------------------------------\u001b[0m",
      "\u001b[1;31mNameError\u001b[0m                                 Traceback (most recent call last)",
      "Input \u001b[1;32mIn [36]\u001b[0m, in \u001b[0;36m<cell line: 2>\u001b[1;34m()\u001b[0m\n\u001b[0;32m      1\u001b[0m X_2 \u001b[38;5;241m=\u001b[39m X\u001b[38;5;241m.\u001b[39mcopy()\n\u001b[1;32m----> 2\u001b[0m X_2[quality_columns] \u001b[38;5;241m=\u001b[39m X[\u001b[43mquality_columns\u001b[49m]\u001b[38;5;241m*\u001b[39m\u001b[38;5;241m*\u001b[39m\u001b[38;5;241m2\u001b[39m\n\u001b[0;32m      3\u001b[0m X_2[conditions_columns] \u001b[38;5;241m=\u001b[39m np\u001b[38;5;241m.\u001b[39mlog(X[conditions_columns]\u001b[38;5;241m+\u001b[39m\u001b[38;5;241m1\u001b[39m)\n",
      "\u001b[1;31mNameError\u001b[0m: name 'quality_columns' is not defined"
     ]
    }
   ],
   "source": [
    "X_2 = X.copy()\n",
    "X_2[quality_columns] = X[quality_columns]**2\n",
    "X_2[conditions_columns] = np.log(X[conditions_columns]+1)"
   ]
  }
 ],
 "metadata": {
  "kernelspec": {
   "display_name": "Python 3 (ipykernel)",
   "language": "python",
   "name": "python3"
  },
  "language_info": {
   "codemirror_mode": {
    "name": "ipython",
    "version": 3
   },
   "file_extension": ".py",
   "mimetype": "text/x-python",
   "name": "python",
   "nbconvert_exporter": "python",
   "pygments_lexer": "ipython3",
   "version": "3.9.12"
  }
 },
 "nbformat": 4,
 "nbformat_minor": 5
}
